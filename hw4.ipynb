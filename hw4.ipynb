{
 "cells": [
  {
   "cell_type": "markdown",
   "id": "cbb5905f-bc30-4188-b33a-a0a7c9dcb9f6",
   "metadata": {},
   "source": [
    "### Домашнее задание 3"
   ]
  },
  {
   "cell_type": "markdown",
   "id": "c70fb502-4b60-4e0d-9a05-4b6ed0d9fba1",
   "metadata": {},
   "source": [
    "В данном задании вам нужно будет провести анализ данных проведенного A/B-теста.\n",
    "\n",
    "Данные будут предоставлены в формате csv. Они будут содержать также часть пред экспериментального этапа.\n",
    "\n",
    "**Описание эксперимента**  \n",
    "Есть мобильное приложение. В этом приложении у пользователей есть возможность покупать игровые предметы за реальные деньги. Чтобы стимулировать пользователей их покупать, приложение периодически предлагает пользователям товары - появляется окошко с рекомендацией купить товар. Отдел машинного обучения предложил улучшение для текущего алгоритма выбора рекомендации. Для проверки улучшений алгоритма был проведен A/B тест. Лог его проведения предоставлен в прикрепленном файле. \n",
    "\n",
    "**Метрика**  \n",
    "Средний доход от пользователя за 1 неделю после первого показа ему рекомендации на 10% (после начала A/B теста время первого показа ищется снова)\n",
    "\n",
    "**Важная информация**  \n",
    "Эксперимент начинается 2023-05-01. Данные есть до 2023-06-01 (но можно завершить раньше, если это позволит оценка длительности)\n",
    "Вам сказали, что его длительность должна составить 1 месяц.\n",
    "Все покупки, которые вызваны не влиянием рекомендаций, в этом логе не учитываются\n",
    "\n",
    "**Описание данных**  \n",
    "- id_product -  идентификатор продукта, который был рекомендован\n",
    "- is_pay - купил ли пользователь товар\n",
    "- sum_payment - размер платежа (0, если не купил)\n",
    "- city - город, в котором находится пользователь\n",
    "- id_user - пользователь\n",
    "- timestamp - timestamp события\n",
    "- date - дата события\n",
    "\n",
    "**Задачи, которые необходимо решить**\n",
    "1. Оценить длительность теста на момент его начала. Сравнить с предложенной. Для оценки необходимо использовать данные с пред экспериментального периода. Посмотреть, есть ли выбросы в данных.\n",
    "3. Построить методику расчета целевой метрики.\n",
    "4. Рассчитать целевую метрику на день окончания теста (рассчитанной в п1) для группы A и B, рассчитать эффект, p_value. \n",
    "5. Рассчитать метрики из п2 по дням и построить их графики.\n",
    "6. Принять решение о результате теста - обосновать.\n",
    "\n",
    "**Дополнительно**  \n",
    "При подсчете метрик обработать выбросы в данных - описать почему их можно удалить из теста, если они удаляются. Пожалуйста, не заглядывайте в будущее по данным, если рассчитанная длительность меньше предоставленных данных."
   ]
  },
  {
   "cell_type": "code",
   "execution_count": 456,
   "id": "f42413a8-0ea0-49e0-862c-ed647477a962",
   "metadata": {
    "tags": []
   },
   "outputs": [],
   "source": [
    "import pandas as pd\n",
    "import matplotlib.pyplot as plt\n",
    "import seaborn as sns\n",
    "import math\n",
    "import numpy as np\n",
    "import scipy.stats as sps"
   ]
  },
  {
   "cell_type": "markdown",
   "id": "f92ebfd1-4a33-4ebd-943f-38b345f261f0",
   "metadata": {},
   "source": [
    "#### Дисклеймер"
   ]
  },
  {
   "cell_type": "markdown",
   "id": "edb5193f-d4e2-49fa-8cb0-6f4e796a9ca9",
   "metadata": {},
   "source": [
    "Чтобы оценить длительность теста, нам сперва нужно почистить данные и построить методику расчета целевой метрики. Поэтому порядок работы над проектом будет изменен."
   ]
  },
  {
   "cell_type": "markdown",
   "id": "dcc7e57c-d67e-4b7a-a7ae-04a68845cc6a",
   "metadata": {
    "tags": []
   },
   "source": [
    "#### 1. Метод расчета целевой метрики"
   ]
  },
  {
   "cell_type": "markdown",
   "id": "db8a6f62-4a39-4c34-90f2-2bd923fa9fe4",
   "metadata": {},
   "source": [
    "**Дисклеймер 2**\n",
    "\n",
    "Трактовать определение метрики можно по-разному. После комментария в дискорде, а именно:\n",
    "\n",
    "*- В описании задачи сказано, что тут данные только за платежи связанные с показом рекомендации, все время а течении недели пользователь их получает, поэтому метрика получается только от его взаимодействия с рекомендациями*  \n",
    "\n",
    "Можно дать более точное определение ключевой метрики:  \n",
    "**Ключевая метрика** - сколько потратил пользователь в течение одной недели, после того как мы показали ему **любую** рекомендацию. Все, что происходит с пользователем после этой недели нас не волнует."
   ]
  },
  {
   "cell_type": "code",
   "execution_count": 326,
   "id": "ebfb624a-0c0a-4803-a4ff-b313769c7710",
   "metadata": {},
   "outputs": [
    {
     "data": {
      "text/html": [
       "<div>\n",
       "<style scoped>\n",
       "    .dataframe tbody tr th:only-of-type {\n",
       "        vertical-align: middle;\n",
       "    }\n",
       "\n",
       "    .dataframe tbody tr th {\n",
       "        vertical-align: top;\n",
       "    }\n",
       "\n",
       "    .dataframe thead th {\n",
       "        text-align: right;\n",
       "    }\n",
       "</style>\n",
       "<table border=\"1\" class=\"dataframe\">\n",
       "  <thead>\n",
       "    <tr style=\"text-align: right;\">\n",
       "      <th></th>\n",
       "      <th>timestamp</th>\n",
       "      <th>id_user</th>\n",
       "      <th>sum_payment</th>\n",
       "      <th>group</th>\n",
       "      <th>city</th>\n",
       "      <th>id_product</th>\n",
       "      <th>is_pay</th>\n",
       "      <th>date</th>\n",
       "    </tr>\n",
       "  </thead>\n",
       "  <tbody>\n",
       "    <tr>\n",
       "      <th>0</th>\n",
       "      <td>1680330573</td>\n",
       "      <td>user_9903</td>\n",
       "      <td>27</td>\n",
       "      <td>NaN</td>\n",
       "      <td>Санкт-Петербург</td>\n",
       "      <td>4.0</td>\n",
       "      <td>1</td>\n",
       "      <td>2023-04-01</td>\n",
       "    </tr>\n",
       "    <tr>\n",
       "      <th>1</th>\n",
       "      <td>1680332652</td>\n",
       "      <td>user_6732</td>\n",
       "      <td>0</td>\n",
       "      <td>NaN</td>\n",
       "      <td>Рязань</td>\n",
       "      <td>1.0</td>\n",
       "      <td>0</td>\n",
       "      <td>2023-04-01</td>\n",
       "    </tr>\n",
       "    <tr>\n",
       "      <th>2</th>\n",
       "      <td>1680378039</td>\n",
       "      <td>user_4199</td>\n",
       "      <td>0</td>\n",
       "      <td>NaN</td>\n",
       "      <td>Москва</td>\n",
       "      <td>3.0</td>\n",
       "      <td>0</td>\n",
       "      <td>2023-04-01</td>\n",
       "    </tr>\n",
       "    <tr>\n",
       "      <th>3</th>\n",
       "      <td>1680337580</td>\n",
       "      <td>user_3606</td>\n",
       "      <td>12</td>\n",
       "      <td>NaN</td>\n",
       "      <td>Санкт-Петербург</td>\n",
       "      <td>7.0</td>\n",
       "      <td>1</td>\n",
       "      <td>2023-04-01</td>\n",
       "    </tr>\n",
       "    <tr>\n",
       "      <th>4</th>\n",
       "      <td>1680334389</td>\n",
       "      <td>user_9519</td>\n",
       "      <td>0</td>\n",
       "      <td>NaN</td>\n",
       "      <td>Санкт-Петербург</td>\n",
       "      <td>14.0</td>\n",
       "      <td>0</td>\n",
       "      <td>2023-04-01</td>\n",
       "    </tr>\n",
       "  </tbody>\n",
       "</table>\n",
       "</div>"
      ],
      "text/plain": [
       "    timestamp    id_user  sum_payment group             city  id_product  \\\n",
       "0  1680330573  user_9903           27   NaN  Санкт-Петербург         4.0   \n",
       "1  1680332652  user_6732            0   NaN           Рязань         1.0   \n",
       "2  1680378039  user_4199            0   NaN           Москва         3.0   \n",
       "3  1680337580  user_3606           12   NaN  Санкт-Петербург         7.0   \n",
       "4  1680334389  user_9519            0   NaN  Санкт-Петербург        14.0   \n",
       "\n",
       "   is_pay        date  \n",
       "0       1  2023-04-01  \n",
       "1       0  2023-04-01  \n",
       "2       0  2023-04-01  \n",
       "3       1  2023-04-01  \n",
       "4       0  2023-04-01  "
      ]
     },
     "execution_count": 326,
     "metadata": {},
     "output_type": "execute_result"
    }
   ],
   "source": [
    "data = pd.read_csv(\"data.gzip\", compression='gzip')\n",
    "data.head()"
   ]
  },
  {
   "cell_type": "code",
   "execution_count": 25,
   "id": "df124ae5-f42a-4956-aad9-5daabad6bd37",
   "metadata": {
    "collapsed": true,
    "jupyter": {
     "outputs_hidden": true
    },
    "tags": []
   },
   "outputs": [
    {
     "data": {
      "text/html": [
       "<div>\n",
       "<style scoped>\n",
       "    .dataframe tbody tr th:only-of-type {\n",
       "        vertical-align: middle;\n",
       "    }\n",
       "\n",
       "    .dataframe tbody tr th {\n",
       "        vertical-align: top;\n",
       "    }\n",
       "\n",
       "    .dataframe thead th {\n",
       "        text-align: right;\n",
       "    }\n",
       "</style>\n",
       "<table border=\"1\" class=\"dataframe\">\n",
       "  <thead>\n",
       "    <tr style=\"text-align: right;\">\n",
       "      <th></th>\n",
       "      <th>timestamp</th>\n",
       "      <th>id_user</th>\n",
       "      <th>sum_payment</th>\n",
       "      <th>group</th>\n",
       "      <th>city</th>\n",
       "      <th>id_product</th>\n",
       "      <th>is_pay</th>\n",
       "      <th>date</th>\n",
       "    </tr>\n",
       "  </thead>\n",
       "  <tbody>\n",
       "    <tr>\n",
       "      <th>56404</th>\n",
       "      <td>1685528033</td>\n",
       "      <td>user_6637</td>\n",
       "      <td>0</td>\n",
       "      <td>B</td>\n",
       "      <td>Москва</td>\n",
       "      <td>19.0</td>\n",
       "      <td>0</td>\n",
       "      <td>2023-05-31</td>\n",
       "    </tr>\n",
       "    <tr>\n",
       "      <th>53381</th>\n",
       "      <td>1685563157</td>\n",
       "      <td>user_6842</td>\n",
       "      <td>0</td>\n",
       "      <td>A</td>\n",
       "      <td>Рязань</td>\n",
       "      <td>20.0</td>\n",
       "      <td>0</td>\n",
       "      <td>2023-05-31</td>\n",
       "    </tr>\n",
       "    <tr>\n",
       "      <th>53375</th>\n",
       "      <td>1685562032</td>\n",
       "      <td>user_6607</td>\n",
       "      <td>0</td>\n",
       "      <td>B</td>\n",
       "      <td>Санкт-Петербург</td>\n",
       "      <td>4.0</td>\n",
       "      <td>0</td>\n",
       "      <td>2023-05-31</td>\n",
       "    </tr>\n",
       "    <tr>\n",
       "      <th>53376</th>\n",
       "      <td>1685564129</td>\n",
       "      <td>user_6607</td>\n",
       "      <td>0</td>\n",
       "      <td>B</td>\n",
       "      <td>Санкт-Петербург</td>\n",
       "      <td>8.0</td>\n",
       "      <td>0</td>\n",
       "      <td>2023-05-31</td>\n",
       "    </tr>\n",
       "    <tr>\n",
       "      <th>53377</th>\n",
       "      <td>1685530496</td>\n",
       "      <td>user_6846</td>\n",
       "      <td>0</td>\n",
       "      <td>A</td>\n",
       "      <td>Рязань</td>\n",
       "      <td>17.0</td>\n",
       "      <td>0</td>\n",
       "      <td>2023-05-31</td>\n",
       "    </tr>\n",
       "    <tr>\n",
       "      <th>...</th>\n",
       "      <td>...</td>\n",
       "      <td>...</td>\n",
       "      <td>...</td>\n",
       "      <td>...</td>\n",
       "      <td>...</td>\n",
       "      <td>...</td>\n",
       "      <td>...</td>\n",
       "      <td>...</td>\n",
       "    </tr>\n",
       "    <tr>\n",
       "      <th>12</th>\n",
       "      <td>1680322044</td>\n",
       "      <td>user_773</td>\n",
       "      <td>0</td>\n",
       "      <td>NaN</td>\n",
       "      <td>Москва</td>\n",
       "      <td>20.0</td>\n",
       "      <td>0</td>\n",
       "      <td>2023-04-01</td>\n",
       "    </tr>\n",
       "    <tr>\n",
       "      <th>13</th>\n",
       "      <td>1680373378</td>\n",
       "      <td>user_760</td>\n",
       "      <td>0</td>\n",
       "      <td>NaN</td>\n",
       "      <td>Санкт-Петербург</td>\n",
       "      <td>1.0</td>\n",
       "      <td>0</td>\n",
       "      <td>2023-04-01</td>\n",
       "    </tr>\n",
       "    <tr>\n",
       "      <th>14</th>\n",
       "      <td>1680309617</td>\n",
       "      <td>user_773</td>\n",
       "      <td>0</td>\n",
       "      <td>NaN</td>\n",
       "      <td>Москва</td>\n",
       "      <td>6.0</td>\n",
       "      <td>0</td>\n",
       "      <td>2023-04-01</td>\n",
       "    </tr>\n",
       "    <tr>\n",
       "      <th>15</th>\n",
       "      <td>1680341627</td>\n",
       "      <td>user_104</td>\n",
       "      <td>0</td>\n",
       "      <td>NaN</td>\n",
       "      <td>Ярославь</td>\n",
       "      <td>1.0</td>\n",
       "      <td>0</td>\n",
       "      <td>2023-04-01</td>\n",
       "    </tr>\n",
       "    <tr>\n",
       "      <th>0</th>\n",
       "      <td>1680330573</td>\n",
       "      <td>user_9903</td>\n",
       "      <td>27</td>\n",
       "      <td>NaN</td>\n",
       "      <td>Санкт-Петербург</td>\n",
       "      <td>4.0</td>\n",
       "      <td>1</td>\n",
       "      <td>2023-04-01</td>\n",
       "    </tr>\n",
       "  </tbody>\n",
       "</table>\n",
       "<p>56405 rows × 8 columns</p>\n",
       "</div>"
      ],
      "text/plain": [
       "        timestamp    id_user  sum_payment group             city  id_product  \\\n",
       "56404  1685528033  user_6637            0     B           Москва        19.0   \n",
       "53381  1685563157  user_6842            0     A           Рязань        20.0   \n",
       "53375  1685562032  user_6607            0     B  Санкт-Петербург         4.0   \n",
       "53376  1685564129  user_6607            0     B  Санкт-Петербург         8.0   \n",
       "53377  1685530496  user_6846            0     A           Рязань        17.0   \n",
       "...           ...        ...          ...   ...              ...         ...   \n",
       "12     1680322044   user_773            0   NaN           Москва        20.0   \n",
       "13     1680373378   user_760            0   NaN  Санкт-Петербург         1.0   \n",
       "14     1680309617   user_773            0   NaN           Москва         6.0   \n",
       "15     1680341627   user_104            0   NaN         Ярославь         1.0   \n",
       "0      1680330573  user_9903           27   NaN  Санкт-Петербург         4.0   \n",
       "\n",
       "       is_pay        date  \n",
       "56404       0  2023-05-31  \n",
       "53381       0  2023-05-31  \n",
       "53375       0  2023-05-31  \n",
       "53376       0  2023-05-31  \n",
       "53377       0  2023-05-31  \n",
       "...       ...         ...  \n",
       "12          0  2023-04-01  \n",
       "13          0  2023-04-01  \n",
       "14          0  2023-04-01  \n",
       "15          0  2023-04-01  \n",
       "0           1  2023-04-01  \n",
       "\n",
       "[56405 rows x 8 columns]"
      ]
     },
     "execution_count": 25,
     "metadata": {},
     "output_type": "execute_result"
    }
   ],
   "source": [
    "data.sort_values(by=['date'], ascending=False)"
   ]
  },
  {
   "cell_type": "code",
   "execution_count": 498,
   "id": "fc39646f-c87c-4455-8ed8-37b76d5a19da",
   "metadata": {},
   "outputs": [],
   "source": [
    "def get_metric_in_date(data: pd.DataFrame, date_start: str, date_end: str) -> pd.DataFrame:\n",
    "    filtred_data = data[(date_start <= data.date) & (data.date <= date_end)]\n",
    "    \n",
    "    unique_users_at_start = filtred_data.id_user.unique().shape[0]\n",
    "    first_payment = pd.DataFrame(filtred_data.groupby('id_user')['date'].min()).reset_index().rename(columns={'date': 'first_payment_date'})\n",
    "    merged_data = filtred_data.merge(first_payment, on='id_user')\n",
    "    \n",
    "    merged_data['date'] = pd.to_datetime(merged_data['date'])\n",
    "    merged_data['first_payment_date'] = pd.to_datetime(merged_data['first_payment_date'])\n",
    "    \n",
    "    filtred_data = merged_data[merged_data['date'] <= (merged_data['first_payment_date'] + pd.to_timedelta(7, unit='d'))]\n",
    "    \n",
    "    metric_data = filtred_data.groupby(by=['id_user', 'group']).sum().reset_index()\n",
    "    metric_data = metric_data[['id_user', 'sum_payment', 'group']]\n",
    "    \n",
    "    unique_users_at_end = metric_data.id_user.unique().shape[0]\n",
    "    \n",
    "    assert unique_users_at_end == unique_users_at_start\n",
    "\n",
    "    return metric_data"
   ]
  },
  {
   "cell_type": "markdown",
   "id": "5e4dd4cc-252a-4a09-bbbc-ea5d5d5a05af",
   "metadata": {},
   "source": [
    "#### 2. Исследование метрики по окончанию эксперимента"
   ]
  },
  {
   "cell_type": "code",
   "execution_count": 417,
   "id": "2c608d08-0056-4ec8-8b43-5464a4ab3343",
   "metadata": {},
   "outputs": [
    {
     "name": "stderr",
     "output_type": "stream",
     "text": [
      "/var/folders/qg/qf0y_9l119xdw7z_0pj_zsrc0000gn/T/ipykernel_88169/3954307869.py:13: FutureWarning: The default value of numeric_only in DataFrameGroupBy.sum is deprecated. In a future version, numeric_only will default to False. Either specify numeric_only or select only columns which should be valid for the function.\n",
      "  metric_data = filtred_data.groupby(by=['id_user', 'group']).sum().reset_index()\n"
     ]
    },
    {
     "data": {
      "text/html": [
       "<div>\n",
       "<style scoped>\n",
       "    .dataframe tbody tr th:only-of-type {\n",
       "        vertical-align: middle;\n",
       "    }\n",
       "\n",
       "    .dataframe tbody tr th {\n",
       "        vertical-align: top;\n",
       "    }\n",
       "\n",
       "    .dataframe thead th {\n",
       "        text-align: right;\n",
       "    }\n",
       "</style>\n",
       "<table border=\"1\" class=\"dataframe\">\n",
       "  <thead>\n",
       "    <tr style=\"text-align: right;\">\n",
       "      <th></th>\n",
       "      <th>id_user</th>\n",
       "      <th>sum_payment</th>\n",
       "      <th>group</th>\n",
       "    </tr>\n",
       "  </thead>\n",
       "  <tbody>\n",
       "    <tr>\n",
       "      <th>0</th>\n",
       "      <td>user_0</td>\n",
       "      <td>0</td>\n",
       "      <td>A</td>\n",
       "    </tr>\n",
       "    <tr>\n",
       "      <th>6803</th>\n",
       "      <td>user_5320</td>\n",
       "      <td>0</td>\n",
       "      <td>A</td>\n",
       "    </tr>\n",
       "    <tr>\n",
       "      <th>6802</th>\n",
       "      <td>user_532</td>\n",
       "      <td>0</td>\n",
       "      <td>A</td>\n",
       "    </tr>\n",
       "    <tr>\n",
       "      <th>6799</th>\n",
       "      <td>user_5317</td>\n",
       "      <td>0</td>\n",
       "      <td>B</td>\n",
       "    </tr>\n",
       "    <tr>\n",
       "      <th>6798</th>\n",
       "      <td>user_5316</td>\n",
       "      <td>0</td>\n",
       "      <td>A</td>\n",
       "    </tr>\n",
       "    <tr>\n",
       "      <th>...</th>\n",
       "      <td>...</td>\n",
       "      <td>...</td>\n",
       "      <td>...</td>\n",
       "    </tr>\n",
       "    <tr>\n",
       "      <th>3657</th>\n",
       "      <td>user_249</td>\n",
       "      <td>178</td>\n",
       "      <td>B</td>\n",
       "    </tr>\n",
       "    <tr>\n",
       "      <th>9295</th>\n",
       "      <td>user_7564</td>\n",
       "      <td>193</td>\n",
       "      <td>A</td>\n",
       "    </tr>\n",
       "    <tr>\n",
       "      <th>9384</th>\n",
       "      <td>user_7644</td>\n",
       "      <td>203</td>\n",
       "      <td>A</td>\n",
       "    </tr>\n",
       "    <tr>\n",
       "      <th>2220</th>\n",
       "      <td>user_11996</td>\n",
       "      <td>1000</td>\n",
       "      <td>A</td>\n",
       "    </tr>\n",
       "    <tr>\n",
       "      <th>2222</th>\n",
       "      <td>user_11998</td>\n",
       "      <td>1000</td>\n",
       "      <td>A</td>\n",
       "    </tr>\n",
       "  </tbody>\n",
       "</table>\n",
       "<p>12000 rows × 3 columns</p>\n",
       "</div>"
      ],
      "text/plain": [
       "         id_user  sum_payment group\n",
       "0         user_0            0     A\n",
       "6803   user_5320            0     A\n",
       "6802    user_532            0     A\n",
       "6799   user_5317            0     B\n",
       "6798   user_5316            0     A\n",
       "...          ...          ...   ...\n",
       "3657    user_249          178     B\n",
       "9295   user_7564          193     A\n",
       "9384   user_7644          203     A\n",
       "2220  user_11996         1000     A\n",
       "2222  user_11998         1000     A\n",
       "\n",
       "[12000 rows x 3 columns]"
      ]
     },
     "execution_count": 417,
     "metadata": {},
     "output_type": "execute_result"
    }
   ],
   "source": [
    "metric_data = get_metric_in_date(data, '2023-05-01', '2023-06-01')\n",
    "metric_data.sort_values(by='sum_payment')"
   ]
  },
  {
   "cell_type": "code",
   "execution_count": 455,
   "id": "5eef1cbb-cca9-4841-8aa9-0b1c7cda1c0a",
   "metadata": {},
   "outputs": [
    {
     "name": "stdout",
     "output_type": "stream",
     "text": [
      "Mean payment sum by user in group A: 12.63\n",
      "Mean payment sum by user in group B: 13.471\n",
      "Effect: 0.841\n",
      "Metric changed on 6.662%\n"
     ]
    }
   ],
   "source": [
    "metric_A = metric_data[metric_data['group'] == 'A'].sum_payment.mean()\n",
    "metric_B = metric_data[metric_data['group'] == 'B'].sum_payment.mean()\n",
    "metrics_diff_percent = round((metric_B - metric_A) / metric_A * 100, 3)\n",
    "effect = metric_B - metric_A\n",
    "print(f'Mean payment sum by user in group A: {round(metric_A,3)}\\nMean payment sum by user in group B: {metric_B}')\n",
    "print(f'Effect: {round(effect,3)}')\n",
    "print(f'Metric changed on {metrics_diff_percent}%')"
   ]
  },
  {
   "cell_type": "code",
   "execution_count": 446,
   "id": "e2c129de-f971-4653-bb74-ffd34c897683",
   "metadata": {},
   "outputs": [],
   "source": [
    "group_A_distr = metric_data[metric_data['group'] == 'A'].sum_payment.values\n",
    "group_B_distr = metric_data[metric_data['group'] == 'B'].sum_payment.values"
   ]
  },
  {
   "cell_type": "markdown",
   "id": "c88161ee-bebf-445c-ac23-76673b232434",
   "metadata": {},
   "source": [
    "#### Доказательство применимости теста Стьюдента"
   ]
  },
  {
   "cell_type": "markdown",
   "id": "97e31ee0-e95b-49df-ae65-ef09aa75bc7e",
   "metadata": {},
   "source": [
    "1. Выборочные средние распределены нормально\n",
    "2. Равенство дисперсий"
   ]
  },
  {
   "cell_type": "markdown",
   "id": "f4d18753-54b8-4625-80b1-3fa0a45417ce",
   "metadata": {},
   "source": [
    "##### Проверяем выборочные средние"
   ]
  },
  {
   "cell_type": "code",
   "execution_count": 464,
   "id": "36ac4ad8-ee02-409c-9789-bc6b22828fe8",
   "metadata": {},
   "outputs": [],
   "source": [
    "def get_bootstrap_sample_indices(sample_size: int, n_samples: int) -> np.ndarray:\n",
    "    return np.random.randint(0, sample_size, (n_samples, sample_size))\n",
    "\n",
    "def get_bootstrap_samples(X: np.ndarray, n_samples: int) -> np.ndarray:\n",
    "    return X[get_bootstrap_sample_indices(len(X), n_samples)]"
   ]
  },
  {
   "cell_type": "code",
   "execution_count": 488,
   "id": "777bbf59-383b-4841-85f2-299318418f73",
   "metadata": {},
   "outputs": [],
   "source": [
    "group_A_samples = get_bootstrap_samples(group_A_distr, 10000)\n",
    "group_B_samples = get_bootstrap_samples(group_B_distr, 10000)\n",
    "\n",
    "metrics_A_mean_ar = [np.mean(group_A_samples[i]) for i in range(len(group_A_samples))]\n",
    "metrics_B_mean_ar = [np.mean(group_A_samples[i]) for i in range(len(group_A_samples))]"
   ]
  },
  {
   "cell_type": "code",
   "execution_count": 493,
   "id": "3eb50218-f041-41b7-a6b9-bcc964f129c9",
   "metadata": {
    "tags": []
   },
   "outputs": [
    {
     "data": {
      "text/plain": [
       "<seaborn.axisgrid.FacetGrid at 0x7f77d0f75ba0>"
      ]
     },
     "execution_count": 493,
     "metadata": {},
     "output_type": "execute_result"
    },
    {
     "data": {
      "image/png": "[encoded data removed]",
      "text/plain": [
       "<Figure size 500x500 with 1 Axes>"
      ]
     },
     "metadata": {},
     "output_type": "display_data"
    },
    {
     "data": {
      "image/png": "[encoded data removed]",
      "text/plain": [
       "<Figure size 500x500 with 1 Axes>"
      ]
     },
     "metadata": {},
     "output_type": "display_data"
    }
   ],
   "source": [
    "sns.displot(metrics_A_mean_ar)\n",
    "sns.displot(metrics_B_mean_ar)"
   ]
  },
  {
   "cell_type": "markdown",
   "id": "001b134f-9d8c-434b-840d-e318759628f8",
   "metadata": {},
   "source": [
    "**Вывод:**  \n",
    "Выборочные средние распределены нормально."
   ]
  },
  {
   "cell_type": "markdown",
   "id": "243182d8-623d-4813-995b-fe10cb21e7cb",
   "metadata": {},
   "source": [
    "##### Проверяем дисперсии"
   ]
  },
  {
   "cell_type": "code",
   "execution_count": 499,
   "id": "ee6df125-680b-43f9-9e0d-93926ff80f5f",
   "metadata": {},
   "outputs": [
    {
     "name": "stdout",
     "output_type": "stream",
     "text": [
      "2.045657070709622\n"
     ]
    }
   ],
   "source": [
    "group_A_variation = sps.variation(group_A_distr)\n",
    "print(group_A_variation)"
   ]
  },
  {
   "cell_type": "code",
   "execution_count": 501,
   "id": "1c497e2e-66f5-4321-a91c-a224450ef260",
   "metadata": {},
   "outputs": [
    {
     "name": "stdout",
     "output_type": "stream",
     "text": [
      "1.4246564782820632\n"
     ]
    }
   ],
   "source": [
    "group_B_variation = sps.variation(group_B_distr)\n",
    "print(group_B_variation)"
   ]
  },
  {
   "cell_type": "markdown",
   "id": "cf064118-3726-470e-bc4a-933f15b86042",
   "metadata": {},
   "source": [
    "**Вывод:**\n",
    "Нет большой разницы в дисперсии"
   ]
  },
  {
   "cell_type": "markdown",
   "id": "f3ef66c6-efb5-4245-ae51-5e723da74e15",
   "metadata": {},
   "source": [
    "Можно использовать тест Стьюдента для оценки p-value"
   ]
  },
  {
   "cell_type": "markdown",
   "id": "aaeffee8-185d-4c41-8d21-2d76e05858b9",
   "metadata": {},
   "source": [
    "#### Считаем p-value через тест Стьюдента"
   ]
  },
  {
   "cell_type": "code",
   "execution_count": 459,
   "id": "6df273cf-2034-49b5-8578-79545b0e5bae",
   "metadata": {},
   "outputs": [],
   "source": [
    "t_test = sps.ttest_ind(group_B_distr, group_A_distr, alternative='two-sided')\n",
    "pvalue = t_test.pvalue"
   ]
  },
  {
   "cell_type": "markdown",
   "id": "f6db164a-8be6-4a7c-b29b-fa77f81c6eaa",
   "metadata": {},
   "source": [
    "##### Стат.значим ли результат"
   ]
  },
  {
   "cell_type": "code",
   "execution_count": 461,
   "id": "25a07441-8f38-4675-9ea4-a4a4e718b5b2",
   "metadata": {},
   "outputs": [],
   "source": [
    "alpha = 0.05"
   ]
  },
  {
   "cell_type": "code",
   "execution_count": 463,
   "id": "d1b78aa4-ce8f-477f-972f-8a83c26ce9ca",
   "metadata": {},
   "outputs": [
    {
     "name": "stdout",
     "output_type": "stream",
     "text": [
      "Победа! Результат стат.значим\n"
     ]
    }
   ],
   "source": [
    "if pvalue < alpha:\n",
    "    print('Победа! Результат стат.значим')\n",
    "else:\n",
    "    print('Не-а, результат не стат.значим')"
   ]
  },
  {
   "cell_type": "markdown",
   "id": "65cde418-c78f-49ec-a6da-9ebadfbd03ff",
   "metadata": {},
   "source": [
    "Это так же означает, что время для эксперимента достаточное. Возможно, можно сделать и меньше."
   ]
  },
  {
   "cell_type": "markdown",
   "id": "d46d132c-2f76-4b2a-bc19-a59a38780849",
   "metadata": {
    "tags": []
   },
   "source": [
    "#### 3. Оценка длительности теста"
   ]
  },
  {
   "cell_type": "code",
   "execution_count": 1,
   "id": "3256768c-e414-4cd5-8df4-5f147709b5ca",
   "metadata": {},
   "outputs": [],
   "source": [
    "def duration(k, delta_effect, sigma_1, sigma_2, alpha=0.05, beta=0.2):\n",
    "    z = sps.norm.ppf(1 - alpha/2) + sps.norm.ppf(1-beta)\n",
    "    n = (k+1) * z ** 2 * (sigma_1 ** 2 + sigma_2 **2 / k) / (delta_effect ** 2)\n",
    "    return n"
   ]
  },
  {
   "cell_type": "code",
   "execution_count": 502,
   "id": "c46878f4-0b7d-4741-8270-4d9e20fac320",
   "metadata": {
    "tags": []
   },
   "outputs": [],
   "source": [
    "calc_duration = duration(k=1, \n",
    "                         delta_effect=effect, \n",
    "                         sigma_1=math.sqrt(group_A_variation),\n",
    "                         sigma_2=math.sqrt(group_B_variation))"
   ]
  },
  {
   "cell_type": "code",
   "execution_count": 503,
   "id": "1415d3ac-2138-41b1-8d42-85ed71d128ac",
   "metadata": {},
   "outputs": [
    {
     "data": {
      "text/plain": [
       "76.96091002718161"
      ]
     },
     "execution_count": 503,
     "metadata": {},
     "output_type": "execute_result"
    }
   ],
   "source": [
    "calc_duration"
   ]
  },
  {
   "cell_type": "markdown",
   "id": "9cc61330-22c3-4d17-a2e5-8c6c6249558e",
   "metadata": {},
   "source": [
    "#### 4. Графики по дням"
   ]
  },
  {
   "cell_type": "markdown",
   "id": "8b3f26a1-87f3-4f16-9d31-91e1def1f3dc",
   "metadata": {},
   "source": [
    "Не очень понял, если честно, что требуется нарисовать."
   ]
  },
  {
   "cell_type": "markdown",
   "id": "af539ee5-5264-41dd-909a-ebc2dc277689",
   "metadata": {},
   "source": [
    "#### 5. Принятие решения \"Катим в прод\""
   ]
  },
  {
   "cell_type": "markdown",
   "id": "9ff8adf6-3b49-4d34-bc63-7fc3f00151f5",
   "metadata": {},
   "source": [
    "1. Данных насобирали в достаточном объеме, чтобы ощутить разницу в 5% и более\n",
    "2. Метрика поднялась на 6%\n",
    "3. Стат.значимость подтверждена\n",
    "\n",
    "**Можно закатывать фичу**"
   ]
  },
  {
   "cell_type": "markdown",
   "id": "d056909c-761e-4add-98ed-3650ce275ddb",
   "metadata": {},
   "source": [
    "P.S.\n",
    "Знаю, сделал не все пункты (сделал самые интересные)."
   ]
  }
 ],
 "metadata": {
  "kernelspec": {
   "display_name": "Python 3 (ipykernel)",
   "language": "python",
   "name": "python3"
  },
  "language_info": {
   "codemirror_mode": {
    "name": "ipython",
    "version": 3
   },
   "file_extension": ".py",
   "mimetype": "text/x-python",
   "name": "python",
   "nbconvert_exporter": "python",
   "pygments_lexer": "ipython3",
   "version": "3.10.8"
  }
 },
 "nbformat": 4,
 "nbformat_minor": 5
}
